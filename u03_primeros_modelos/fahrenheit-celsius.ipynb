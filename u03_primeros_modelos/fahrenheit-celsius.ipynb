{
 "cells": [
  {
   "cell_type": "code",
   "execution_count": 1,
   "metadata": {},
   "outputs": [],
   "source": [
    "# Calcula grados celsius a partir de grados fahrenheit.\n",
    "# Algoritmo: regresión lineal.\n",
    "# El modelo será un línea que predice el resultado.\n",
    "# Datos: El conjunto de datos está en el archivo grados.csv."
   ]
  },
  {
   "cell_type": "code",
   "execution_count": null,
   "metadata": {},
   "outputs": [],
   "source": [
    "# Importar la librería Pandas, que permite leer y analizar los datos.\n",
    "# Con pandas se pueden manipular los archivos csv.\n",
    "import pandas as pd\n",
    "datos = pd.read_csv(\"grados.csv\")"
   ]
  }
 ],
 "metadata": {
  "kernelspec": {
   "display_name": "Python 3",
   "language": "python",
   "name": "python3"
  },
  "language_info": {
   "codemirror_mode": {
    "name": "ipython",
    "version": 3
   },
   "file_extension": ".py",
   "mimetype": "text/x-python",
   "name": "python",
   "nbconvert_exporter": "python",
   "pygments_lexer": "ipython3",
   "version": "3.12.0"
  }
 },
 "nbformat": 4,
 "nbformat_minor": 2
}

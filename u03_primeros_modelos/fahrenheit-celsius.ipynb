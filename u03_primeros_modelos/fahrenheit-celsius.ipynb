{
 "cells": [
  {
   "cell_type": "code",
   "execution_count": 20,
   "metadata": {},
   "outputs": [],
   "source": [
    "# Calcula grados celsius a partir de grados fahrenheit.\n",
    "# Algoritmo: regresión lineal.\n",
    "# El modelo será un línea que predice el resultado.\n",
    "# Datos: El conjunto de datos está en el archivo grados.csv."
   ]
  },
  {
   "cell_type": "code",
   "execution_count": 1,
   "metadata": {},
   "outputs": [],
   "source": [
    "# Importar la librería Pandas, que permite leer y analizar los datos.\n",
    "# Con pandas se pueden manipular los archivos csv.\n",
    "import pandas as pd\n",
    "datos = pd.read_csv(\"grados.csv\")"
   ]
  },
  {
   "cell_type": "code",
   "execution_count": null,
   "metadata": {},
   "outputs": [],
   "source": [
    "# Mostrar información\n",
    "datos.info()"
   ]
  },
  {
   "cell_type": "code",
   "execution_count": null,
   "metadata": {},
   "outputs": [],
   "source": [
    "datos.head()"
   ]
  },
  {
   "cell_type": "code",
   "execution_count": null,
   "metadata": {},
   "outputs": [],
   "source": [
    "# Mostrar una gráfica con seaborn\n",
    "import seaborn as sb\n",
    "\n",
    "# hue: cambia el color de los puntos dependiendo del parámetro.\n",
    "# palette: establece una paleta de colores.\n",
    "sb.scatterplot(x='fahrenheit', y='celsius', data=datos, hue='celsius', palette='coolwarm')"
   ]
  },
  {
   "cell_type": "code",
   "execution_count": 5,
   "metadata": {},
   "outputs": [],
   "source": [
    "# Preparar los datos: separar las características de las etiquetas.\n",
    "\n",
    "# Características (X): los datos de entrada, grados fahrenheit.\n",
    "# Etiqueta (y): la respuesta, grados celsius.\n",
    "\n",
    "X = datos[\"fahrenheit\"]\n",
    "y = datos[\"celsius\"]"
   ]
  },
  {
   "cell_type": "code",
   "execution_count": null,
   "metadata": {},
   "outputs": [],
   "source": [
    "# Comprobamos los datos\n",
    "X"
   ]
  },
  {
   "cell_type": "code",
   "execution_count": null,
   "metadata": {},
   "outputs": [],
   "source": [
    "# Tipo de datos\n",
    "type(X) #pandas.core.series.Series"
   ]
  },
  {
   "cell_type": "code",
   "execution_count": null,
   "metadata": {},
   "outputs": [],
   "source": [
    "# Los datos son un array, pero cada elemento del array debería ser\n",
    "# un arraya, pues podría estar compuesto de más características.\n",
    "X.values #array([-40. ,  14. ,  32. ,  46.4,  59. ,  71.6, 100.4])\n",
    "\n",
    "# Debería ser: array([[-40.] ,  [14.] ,  [32.] ,  [46.4],  [59.] ,  [71.6], [100.4]])"
   ]
  },
  {
   "cell_type": "code",
   "execution_count": null,
   "metadata": {},
   "outputs": [],
   "source": [
    "# Transformamos el tipo de datos de las características.\n",
    "# Usamos una función de la librería numPy.\n",
    "X.values.reshape(-1,1)\n",
    "\n",
    "#array([[-40. ], [ 14. ], [ 32. ], [ 46.4], [ 59. ], [ 71.6], [100.4]])"
   ]
  },
  {
   "cell_type": "code",
   "execution_count": null,
   "metadata": {},
   "outputs": [],
   "source": [
    "# Guardar los datos ya procesados\n",
    "X_procesada = X.values.reshape(-1,1)\n",
    "y_procesada = y.values.reshape(-1,1)"
   ]
  },
  {
   "cell_type": "code",
   "execution_count": null,
   "metadata": {},
   "outputs": [],
   "source": [
    "# Con los datos ya preparados, creamos el modelo usando la librería sklearn.\n",
    "# from sklearn.linear_model"
   ]
  }
 ],
 "metadata": {
  "kernelspec": {
   "display_name": "Python 3",
   "language": "python",
   "name": "python3"
  },
  "language_info": {
   "codemirror_mode": {
    "name": "ipython",
    "version": 3
   },
   "file_extension": ".py",
   "mimetype": "text/x-python",
   "name": "python",
   "nbconvert_exporter": "python",
   "pygments_lexer": "ipython3",
   "version": "3.12.0"
  }
 },
 "nbformat": 4,
 "nbformat_minor": 2
}

{
 "cells": [
  {
   "cell_type": "code",
   "execution_count": 20,
   "metadata": {},
   "outputs": [],
   "source": [
    "# Calcula grados celsius a partir de grados fahrenheit.\n",
    "# Algoritmo: regresión lineal.\n",
    "# El modelo será un línea que predice el resultado.\n",
    "# Datos: El conjunto de datos está en el archivo grados.csv."
   ]
  },
  {
   "cell_type": "code",
   "execution_count": 21,
   "metadata": {},
   "outputs": [],
   "source": [
    "# Importar la librería Pandas, que permite leer y analizar los datos.\n",
    "# Con pandas se pueden manipular los archivos csv.\n",
    "import pandas as pd\n",
    "datos = pd.read_csv(\"grados.csv\")"
   ]
  },
  {
   "cell_type": "code",
   "execution_count": null,
   "metadata": {},
   "outputs": [],
   "source": [
    "# Mostrar información\n",
    "datos.info()"
   ]
  },
  {
   "cell_type": "code",
   "execution_count": null,
   "metadata": {},
   "outputs": [],
   "source": [
    "datos.head()"
   ]
  },
  {
   "cell_type": "code",
   "execution_count": null,
   "metadata": {},
   "outputs": [],
   "source": [
    "# Mostrar una gráfica con seaborn\n",
    "import seaborn as sb\n",
    "\n",
    "# hue: cambia el color de los puntos dependiendo del parámetro.\n",
    "# palette: establece una paleta de colores.\n",
    "sb.scatterplot(x='fahrenheit', y='celsius', data=datos, hue='celsius', palette='coolwarm')"
   ]
  },
  {
   "cell_type": "code",
   "execution_count": null,
   "metadata": {},
   "outputs": [],
   "source": [
    "# Preparar los datos: separar las características de las etiquetas.\n",
    "\n",
    "# Características (X): los datos de entrada, grados fahrenheit.\n",
    "# Etiqueta (y): la respuesta, grados celsius."
   ]
  }
 ],
 "metadata": {
  "kernelspec": {
   "display_name": "Python 3",
   "language": "python",
   "name": "python3"
  },
  "language_info": {
   "codemirror_mode": {
    "name": "ipython",
    "version": 3
   },
   "file_extension": ".py",
   "mimetype": "text/x-python",
   "name": "python",
   "nbconvert_exporter": "python",
   "pygments_lexer": "ipython3",
   "version": "3.12.0"
  }
 },
 "nbformat": 4,
 "nbformat_minor": 2
}
